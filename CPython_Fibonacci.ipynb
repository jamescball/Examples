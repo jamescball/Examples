{
  "nbformat": 4,
  "nbformat_minor": 0,
  "metadata": {
    "colab": {
      "provenance": [],
      "authorship_tag": "ABX9TyMOp+29ZUG7KIdOe4T4eUH3"
    },
    "kernelspec": {
      "name": "python3",
      "display_name": "Python 3"
    },
    "language_info": {
      "name": "python"
    }
  },
  "cells": [
    {
      "cell_type": "code",
      "execution_count": 1,
      "metadata": {
        "id": "JZ9uKyRVScmx"
      },
      "outputs": [],
      "source": [
        "%load_ext cython"
      ]
    },
    {
      "cell_type": "code",
      "source": [
        "%%cython\n",
        "\n",
        "def py_sequence(nterms):\n",
        "\n",
        "  # first two terms\n",
        "  n1, n2 = 0, 1\n",
        "  count = 0\n",
        "  while count < nterms:\n",
        "    nth = n1 + n2\n",
        "    # update values\n",
        "    n1 = n2\n",
        "    n2 = nth\n",
        "    count += 1\n",
        "\n",
        "\n",
        "cdef inline int cy_seq(int nterms):\n",
        "  cdef int n1 = 0\n",
        "  cdef int n2 = 1\n",
        "  cdef int count = 0\n",
        "  while count < nterms:\n",
        "    nth = n1 + n2\n",
        "    # update values\n",
        "    n1 = n2\n",
        "    n2 = nth\n",
        "    count += 1\n",
        "\n",
        "\n",
        "\n",
        "def cy_wrapper(int n):\n",
        "  return cy_seq(n)\n"
      ],
      "metadata": {
        "id": "BF0Xp3RKTPQx"
      },
      "execution_count": 2,
      "outputs": []
    },
    {
      "cell_type": "code",
      "source": [
        "print(\"python time complexity\")\n",
        "%timeit py_sequence(1000000)\n",
        "print('\\n')\n",
        "\n",
        "print('cython time complexity')\n",
        "%timeit cy_wrapper(1000000)\n",
        "print('\\n')"
      ],
      "metadata": {
        "colab": {
          "base_uri": "https://localhost:8080/"
        },
        "id": "5b_vVK_PWnsW",
        "outputId": "ec469408-a93d-4993-f406-b1ca211fe52f"
      },
      "execution_count": 5,
      "outputs": [
        {
          "output_type": "stream",
          "name": "stdout",
          "text": [
            "python time complexity\n",
            "11.6 s ± 32 ms per loop (mean ± std. dev. of 7 runs, 1 loop each)\n",
            "\n",
            "\n",
            "cython time complexity\n",
            "57.3 ns ± 0.48 ns per loop (mean ± std. dev. of 7 runs, 10000000 loops each)\n",
            "\n",
            "\n"
          ]
        }
      ]
    }
  ]
}